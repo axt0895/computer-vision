{
 "cells": [
  {
   "cell_type": "code",
   "execution_count": 1,
   "id": "17f19dc1",
   "metadata": {},
   "outputs": [],
   "source": [
    "import cv2\n",
    "import numpy as np\n",
    "import pandas as pd\n",
    "from IPython.display import Image\n",
    "import matplotlib.pyplot as plt\n",
    "\n",
    "%matplotlib inline"
   ]
  },
  {
   "cell_type": "code",
   "execution_count": 5,
   "id": "27354396",
   "metadata": {},
   "outputs": [
    {
     "data": {
      "text/plain": [
       "array([[229, 223, 221, ..., 221, 221, 221],\n",
       "       [224, 220, 220, ..., 221, 221, 221],\n",
       "       [223, 221, 219, ..., 221, 221, 221],\n",
       "       ...,\n",
       "       [ 62,  63,  66, ...,  67,  68,  68],\n",
       "       [ 61,  64,  66, ...,  68,  69,  68],\n",
       "       [ 64,  66,  68, ...,  67,  68,  68]], dtype=uint8)"
      ]
     },
     "execution_count": 5,
     "metadata": {},
     "output_type": "execute_result"
    }
   ],
   "source": [
    "anil = cv2.imread('Anil.jpg', 0)\n",
    "anil"
   ]
  },
  {
   "cell_type": "code",
   "execution_count": 6,
   "id": "95efc2e2",
   "metadata": {},
   "outputs": [
    {
     "data": {
      "text/plain": [
       "(600, 600)"
      ]
     },
     "execution_count": 6,
     "metadata": {},
     "output_type": "execute_result"
    }
   ],
   "source": [
    "anil.shape"
   ]
  },
  {
   "cell_type": "code",
   "execution_count": 7,
   "id": "32451ba8",
   "metadata": {},
   "outputs": [
    {
     "data": {
      "text/plain": [
       "dtype('uint8')"
      ]
     },
     "execution_count": 7,
     "metadata": {},
     "output_type": "execute_result"
    }
   ],
   "source": [
    "anil.dtype"
   ]
  },
  {
   "cell_type": "code",
   "execution_count": null,
   "id": "5fcd74b2",
   "metadata": {},
   "outputs": [],
   "source": []
  }
 ],
 "metadata": {
  "kernelspec": {
   "display_name": "Python 3 (ipykernel)",
   "language": "python",
   "name": "python3"
  },
  "language_info": {
   "codemirror_mode": {
    "name": "ipython",
    "version": 3
   },
   "file_extension": ".py",
   "mimetype": "text/x-python",
   "name": "python",
   "nbconvert_exporter": "python",
   "pygments_lexer": "ipython3",
   "version": "3.11.4"
  }
 },
 "nbformat": 4,
 "nbformat_minor": 5
}
